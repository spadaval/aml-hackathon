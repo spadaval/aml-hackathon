{
 "cells": [
  {
   "cell_type": "code",
   "execution_count": 3,
   "metadata": {},
   "outputs": [],
   "source": [
    "import pandas as pd\n",
    "import imageio\n",
    "import matplotlib.pyplot as plt\n",
    "import tensorflow as tf\n",
    "from tqdm import tqdm\n"
   ]
  },
  {
   "cell_type": "markdown",
   "metadata": {},
   "source": [
    "# Step 1\n",
    "\n",
    "Read the dataset, merge the files, output tfrecords"
   ]
  },
  {
   "cell_type": "code",
   "execution_count": 4,
   "metadata": {},
   "outputs": [],
   "source": [
    "header_names = ['image', 'popularity', \"partial_faces\", \"is_female\", \"baby\", \"child\", \"teenager\", \"youth\", \"middle_age\", \"senior\", \"white\", \"black\", \"asian\", \"oval_face\", \"round_face\", \"heart_face\", \"smiling\", \"mouth_open\", \"frowning\", \"wearing_glasses\", \"wearing_sunglasses\", \"wearing_lipstick\", \"tongue_out\", \"duck_face\", \"black_hair\", \"blond_hair\", \"brown_hair\", \"red_hair\", \"curly_hair\", \"straight_hair\", \"braid_hair\", \"showing_cellphone\", \"using_earphone\", \"using_mirror\", \"braces\", \"wearing_hat\", \"harsh_lighting\", \"dim_lighting\"]\n",
    "\n",
    "d = pd.read_csv('Selfie-dataset/selfie_dataset.txt', sep=' ',header=None, names=header_names)\n",
    "\n",
    "d = d[['image','popularity',\"is_female\", \"baby\", \"child\", \"teenager\", \"youth\", \"middle_age\", \"senior\"]]\n",
    "\n",
    "def fetch_image(filename):\n",
    "    return open(\"Selfie-dataset/images/{}.jpg\".format(filename),'rb').read()\n",
    "\n",
    "d['image'] = d['image'].map(fetch_image)"
   ]
  },
  {
   "cell_type": "code",
   "execution_count": 6,
   "metadata": {},
   "outputs": [
    {
     "name": "stderr",
     "output_type": "stream",
     "text": [
      "  0%|          | 133/46800 [00:00<00:35, 1327.83it/s]"
     ]
    },
    {
     "name": "stdout",
     "output_type": "stream",
     "text": [
      "Begin writing samples\n"
     ]
    },
    {
     "name": "stderr",
     "output_type": "stream",
     "text": [
      "46836it [00:16, 2776.49it/s]\n"
     ]
    }
   ],
   "source": [
    "def _bytes_feature(value):\n",
    "    return tf.train.Feature(bytes_list=tf.train.BytesList(value=[value]))\n",
    "\n",
    "def _int64_feature(value):\n",
    "    return tf.train.Feature(int64_list=tf.train.Int64List(value=[value]))\n",
    "\n",
    "def _int64list_feature(value):\n",
    "    return tf.train.Feature(int64_list=tf.train.Int64List(value=value))\n",
    "\n",
    "def _float_feature(value):\n",
    "    return tf.train.Feature(float_list=tf.train.FloatList(value=[value]))\n",
    "\n",
    "writer = tf.python_io.TFRecordWriter(\"data.tfrecords\")\n",
    "\n",
    "print(\"Begin writing samples\")\n",
    "\n",
    "for row in tqdm(d.iterrows(), total=46800):\n",
    "    row = row[1]\n",
    "    image = row['image']\n",
    "    popularity = row['popularity']\n",
    "    gender = row[2]\n",
    "    age_group = row[3:]\n",
    "    \n",
    "    example = tf.train.Example(features=tf.train.Features(feature={\n",
    "        'image': _bytes_feature(image),\n",
    "        'popularity': _float_feature(popularity),\n",
    "        'gender': _int64_feature(gender), # 1 -> female, -1 -> male\n",
    "        'age_group': _int64list_feature(age_group)  \n",
    "        }))\n",
    "    writer.write(example.SerializeToString())\n",
    "    "
   ]
  },
  {
   "cell_type": "code",
   "execution_count": null,
   "metadata": {},
   "outputs": [],
   "source": []
  }
 ],
 "metadata": {
  "kernelspec": {
   "display_name": "tensorflow",
   "language": "python",
   "name": "tensorflow"
  },
  "language_info": {
   "codemirror_mode": {
    "name": "ipython",
    "version": 3
   },
   "file_extension": ".py",
   "mimetype": "text/x-python",
   "name": "python",
   "nbconvert_exporter": "python",
   "pygments_lexer": "ipython3",
   "version": "3.6.6"
  }
 },
 "nbformat": 4,
 "nbformat_minor": 2
}
