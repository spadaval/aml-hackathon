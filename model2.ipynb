{
 "cells": [
  {
   "cell_type": "code",
   "execution_count": 1,
   "metadata": {},
   "outputs": [],
   "source": [
    "%matplotlib inline\n",
    "import os\n",
    "import time\n",
    "import csv\n",
    "import pandas as pd\n",
    "import numpy as np\n",
    "import matplotlib.pyplot as plt\n",
    "#import seaborn as sns\n",
    "from sklearn.model_selection import train_test_split\n",
    "from PIL import Image\n",
    "import pickle\n",
    "import scipy\n",
    "#import cv2\n",
    "from PIL import ImageOps\n",
    "os.environ[\"CUDA_VISIBLE_DEVICES\"]=\"2\""
   ]
  },
  {
   "cell_type": "code",
   "execution_count": 2,
   "metadata": {},
   "outputs": [
    {
     "name": "stderr",
     "output_type": "stream",
     "text": [
      "Using TensorFlow backend.\n"
     ]
    }
   ],
   "source": [
    "from keras import applications\n",
    "from keras.preprocessing.image import ImageDataGenerator\n",
    "from keras import optimizers\n",
    "from keras.models import Sequential, Model \n",
    "from keras.layers import Dropout, Flatten, Dense, GlobalAveragePooling2D\n",
    "from keras import backend as K\n",
    "from keras.callbacks import ModelCheckpoint, LearningRateScheduler, TensorBoard, EarlyStopping"
   ]
  },
  {
   "cell_type": "code",
   "execution_count": 3,
   "metadata": {},
   "outputs": [],
   "source": [
    "IMG_WIDTH, IMG_HEIGHT = 200, 200\n",
    "nb_train_samples = 4125\n",
    "nb_validation_samples = 466 \n",
    "batch_size = 25\n",
    "epochs = 15\n",
    "\n",
    "data_size = 30000\n",
    "columns = [\"image_name\",\"popularity_score\",\"partial_faces\",\"is_female\",\"baby\",\"child\",\"teenager\",\"youth\",\"middle_age\",\"senior\",\"white\",\"black\",\"asian\",\"oval_face\",\"round_face\",\"heart_face\",\"smiling\",\"mouth_open\",\"frowning\",\"wearing_glasses\",\"wearing_sunglasses\",\"wearing_lipstick\",\"tongue_out\",\"duck_face\",\"black_hair\",\"blond_hair\",\"brown_hair\",\"red_hair\",\"curly_hair\",\"straight_hair\",\"braid_hair\",\"showing_cellphone\",\"using_earphone\",\"using_mirror\",\"braces\",\"wearing_hat\",\"harsh_lighting\",\"dim_lighting\"]"
   ]
  },
  {
   "cell_type": "code",
   "execution_count": 4,
   "metadata": {},
   "outputs": [],
   "source": [
    "def load_dataset():\n",
    "    path_to_file = \"Selfie-dataset/selfie_dataset.txt\"\n",
    "    data = pd.read_csv(path_to_file, sep=\" \", header=None, encoding='utf-8')\n",
    "    print(type(data))\n",
    "    data.columns = columns\n",
    "    #data = data[[\"image_name\", \"popularity_score\", \"is_female\", \"baby\", \"child\", \"teenager\", \"youth\", \"middle_age\",\"senior\"]]\n",
    "    return data"
   ]
  },
  {
   "cell_type": "code",
   "execution_count": 5,
   "metadata": {},
   "outputs": [
    {
     "name": "stdout",
     "output_type": "stream",
     "text": [
      "<class 'pandas.core.frame.DataFrame'>\n"
     ]
    }
   ],
   "source": [
    "data = load_dataset()"
   ]
  },
  {
   "cell_type": "code",
   "execution_count": 6,
   "metadata": {},
   "outputs": [
    {
     "data": {
      "text/html": [
       "<div>\n",
       "<style scoped>\n",
       "    .dataframe tbody tr th:only-of-type {\n",
       "        vertical-align: middle;\n",
       "    }\n",
       "\n",
       "    .dataframe tbody tr th {\n",
       "        vertical-align: top;\n",
       "    }\n",
       "\n",
       "    .dataframe thead th {\n",
       "        text-align: right;\n",
       "    }\n",
       "</style>\n",
       "<table border=\"1\" class=\"dataframe\">\n",
       "  <thead>\n",
       "    <tr style=\"text-align: right;\">\n",
       "      <th></th>\n",
       "      <th>image_name</th>\n",
       "      <th>popularity_score</th>\n",
       "      <th>partial_faces</th>\n",
       "      <th>is_female</th>\n",
       "      <th>baby</th>\n",
       "      <th>child</th>\n",
       "      <th>teenager</th>\n",
       "      <th>youth</th>\n",
       "      <th>middle_age</th>\n",
       "      <th>senior</th>\n",
       "      <th>...</th>\n",
       "      <th>curly_hair</th>\n",
       "      <th>straight_hair</th>\n",
       "      <th>braid_hair</th>\n",
       "      <th>showing_cellphone</th>\n",
       "      <th>using_earphone</th>\n",
       "      <th>using_mirror</th>\n",
       "      <th>braces</th>\n",
       "      <th>wearing_hat</th>\n",
       "      <th>harsh_lighting</th>\n",
       "      <th>dim_lighting</th>\n",
       "    </tr>\n",
       "  </thead>\n",
       "  <tbody>\n",
       "    <tr>\n",
       "      <th>0</th>\n",
       "      <td>00a454da495e11e28a7322000a1fa414_6</td>\n",
       "      <td>3.901</td>\n",
       "      <td>1</td>\n",
       "      <td>1</td>\n",
       "      <td>-1</td>\n",
       "      <td>-1</td>\n",
       "      <td>-1</td>\n",
       "      <td>1</td>\n",
       "      <td>-1</td>\n",
       "      <td>-1</td>\n",
       "      <td>...</td>\n",
       "      <td>-1</td>\n",
       "      <td>-1</td>\n",
       "      <td>-1</td>\n",
       "      <td>-1</td>\n",
       "      <td>-1</td>\n",
       "      <td>-1</td>\n",
       "      <td>-1</td>\n",
       "      <td>-1</td>\n",
       "      <td>-1</td>\n",
       "      <td>-1</td>\n",
       "    </tr>\n",
       "    <tr>\n",
       "      <th>1</th>\n",
       "      <td>00cddb96ac4c11e3a30212279ba1b65f_6</td>\n",
       "      <td>4.385</td>\n",
       "      <td>1</td>\n",
       "      <td>1</td>\n",
       "      <td>-1</td>\n",
       "      <td>-1</td>\n",
       "      <td>-1</td>\n",
       "      <td>-1</td>\n",
       "      <td>-1</td>\n",
       "      <td>-1</td>\n",
       "      <td>...</td>\n",
       "      <td>-1</td>\n",
       "      <td>-1</td>\n",
       "      <td>-1</td>\n",
       "      <td>-1</td>\n",
       "      <td>-1</td>\n",
       "      <td>-1</td>\n",
       "      <td>-1</td>\n",
       "      <td>-1</td>\n",
       "      <td>-1</td>\n",
       "      <td>-1</td>\n",
       "    </tr>\n",
       "    <tr>\n",
       "      <th>2</th>\n",
       "      <td>01cdd7aa1a1a11e2aaa822000a1fb0dd_6</td>\n",
       "      <td>4.243</td>\n",
       "      <td>-1</td>\n",
       "      <td>1</td>\n",
       "      <td>-1</td>\n",
       "      <td>-1</td>\n",
       "      <td>1</td>\n",
       "      <td>-1</td>\n",
       "      <td>-1</td>\n",
       "      <td>-1</td>\n",
       "      <td>...</td>\n",
       "      <td>-1</td>\n",
       "      <td>-1</td>\n",
       "      <td>-1</td>\n",
       "      <td>-1</td>\n",
       "      <td>-1</td>\n",
       "      <td>-1</td>\n",
       "      <td>-1</td>\n",
       "      <td>-1</td>\n",
       "      <td>-1</td>\n",
       "      <td>-1</td>\n",
       "    </tr>\n",
       "    <tr>\n",
       "      <th>3</th>\n",
       "      <td>024696bead0c11e389d50ec42b3b1b1c_6</td>\n",
       "      <td>4.169</td>\n",
       "      <td>-1</td>\n",
       "      <td>-1</td>\n",
       "      <td>-1</td>\n",
       "      <td>-1</td>\n",
       "      <td>1</td>\n",
       "      <td>-1</td>\n",
       "      <td>-1</td>\n",
       "      <td>-1</td>\n",
       "      <td>...</td>\n",
       "      <td>-1</td>\n",
       "      <td>-1</td>\n",
       "      <td>-1</td>\n",
       "      <td>-1</td>\n",
       "      <td>-1</td>\n",
       "      <td>-1</td>\n",
       "      <td>-1</td>\n",
       "      <td>-1</td>\n",
       "      <td>-1</td>\n",
       "      <td>-1</td>\n",
       "    </tr>\n",
       "    <tr>\n",
       "      <th>4</th>\n",
       "      <td>026df048221a11e2b52122000a1fa4b5_6</td>\n",
       "      <td>3.873</td>\n",
       "      <td>-1</td>\n",
       "      <td>1</td>\n",
       "      <td>-1</td>\n",
       "      <td>-1</td>\n",
       "      <td>-1</td>\n",
       "      <td>-1</td>\n",
       "      <td>1</td>\n",
       "      <td>-1</td>\n",
       "      <td>...</td>\n",
       "      <td>-1</td>\n",
       "      <td>1</td>\n",
       "      <td>-1</td>\n",
       "      <td>-1</td>\n",
       "      <td>-1</td>\n",
       "      <td>-1</td>\n",
       "      <td>-1</td>\n",
       "      <td>-1</td>\n",
       "      <td>-1</td>\n",
       "      <td>-1</td>\n",
       "    </tr>\n",
       "  </tbody>\n",
       "</table>\n",
       "<p>5 rows × 38 columns</p>\n",
       "</div>"
      ],
      "text/plain": [
       "                           image_name  popularity_score  partial_faces  \\\n",
       "0  00a454da495e11e28a7322000a1fa414_6             3.901              1   \n",
       "1  00cddb96ac4c11e3a30212279ba1b65f_6             4.385              1   \n",
       "2  01cdd7aa1a1a11e2aaa822000a1fb0dd_6             4.243             -1   \n",
       "3  024696bead0c11e389d50ec42b3b1b1c_6             4.169             -1   \n",
       "4  026df048221a11e2b52122000a1fa4b5_6             3.873             -1   \n",
       "\n",
       "   is_female  baby  child  teenager  youth  middle_age  senior      ...       \\\n",
       "0          1    -1     -1        -1      1          -1      -1      ...        \n",
       "1          1    -1     -1        -1     -1          -1      -1      ...        \n",
       "2          1    -1     -1         1     -1          -1      -1      ...        \n",
       "3         -1    -1     -1         1     -1          -1      -1      ...        \n",
       "4          1    -1     -1        -1     -1           1      -1      ...        \n",
       "\n",
       "   curly_hair  straight_hair  braid_hair  showing_cellphone  using_earphone  \\\n",
       "0          -1             -1          -1                 -1              -1   \n",
       "1          -1             -1          -1                 -1              -1   \n",
       "2          -1             -1          -1                 -1              -1   \n",
       "3          -1             -1          -1                 -1              -1   \n",
       "4          -1              1          -1                 -1              -1   \n",
       "\n",
       "   using_mirror  braces  wearing_hat  harsh_lighting  dim_lighting  \n",
       "0            -1      -1           -1              -1            -1  \n",
       "1            -1      -1           -1              -1            -1  \n",
       "2            -1      -1           -1              -1            -1  \n",
       "3            -1      -1           -1              -1            -1  \n",
       "4            -1      -1           -1              -1            -1  \n",
       "\n",
       "[5 rows x 38 columns]"
      ]
     },
     "execution_count": 6,
     "metadata": {},
     "output_type": "execute_result"
    }
   ],
   "source": [
    "data.head()"
   ]
  },
  {
   "cell_type": "code",
   "execution_count": 7,
   "metadata": {},
   "outputs": [],
   "source": [
    "seed = 123 \n",
    "X_train, X_test, y_train, y_test = train_test_split(data['image_name'][:data_size], data.iloc[:, 1:][:data_size], test_size=0.15, random_state=seed)"
   ]
  },
  {
   "cell_type": "code",
   "execution_count": 8,
   "metadata": {},
   "outputs": [],
   "source": [
    "def  get_im_PIL(filename):\n",
    "    img_pil = Image.open(filename)\n",
    "    img_pil = img_pil.resize((IMG_WIDTH, IMG_HEIGHT), Image.ANTIALIAS)\n",
    "    #img_pil = ImageOps.box_blur(img_pil, radius=1)\n",
    "    #img_pil = img_pil.transpose(Image.FLIP_LEFT_RIGHT)\n",
    "    return np.asarray(img_pil)\n",
    "\n",
    "def load_train(file=False, name=\"\"):\n",
    "    '''\n",
    "    read the image and return the data\n",
    "    main folder shoud be split into data and code\n",
    "    put the images in Selfie-dataset/images\n",
    "    '''\n",
    "    X_train = []\n",
    "    X_train_id = []\n",
    "    y_train = []\n",
    "    start_time = time.time()\n",
    "    folders = [\"Selfie-dataset/images\"]\n",
    "    if(file):\n",
    "        for fld in folders:\n",
    "            files=[]\n",
    "            files.append(os.path.join(fld, name+'.jpg'))\n",
    "            for fl in files:\n",
    "                flbase = os.path.basename(fl)\n",
    "                img = get_im_PIL(fl)\n",
    "                X_train.append(img)\n",
    "                X_train_id.append(flbase)\n",
    "        return X_train\n",
    "    else:\n",
    "        for fld in folders:\n",
    "            path = os.path.join('..',fld, '*.jpg')\n",
    "            files = glob.glob(path)\n",
    "            for fl in files[:100]:\n",
    "                flbase = os.path.basename(fl)\n",
    "                img = get_im_cv2(fl)\n",
    "                X_train.append(img)\n",
    "                X_train_id.append(flbase)\n",
    "\n",
    "        return X_train\n",
    "\n",
    "\n",
    "def read_and_normalize_train_data(file=False,name=\"\"):\n",
    "    '''\n",
    "    read the image or the whole dataset\n",
    "    return - normalised numpy array \n",
    "    '''\n",
    "    train_data = load_train(file,name)\n",
    "\n",
    "    train_data = np.array(train_data, dtype=np.uint8)\n",
    "\n",
    "\n",
    "    train_data = train_data.astype('float32')\n",
    "    train_data = train_data / 255\n",
    "\n",
    "    return train_data"
   ]
  },
  {
   "cell_type": "code",
   "execution_count": 9,
   "metadata": {},
   "outputs": [],
   "source": [
    "def get_data(X, Y):\n",
    "    X = np.array(X)\n",
    "    Y = np.array(Y)\n",
    "    Y = (Y+1)/2\n",
    "    data_list = []\n",
    "    popularity = []\n",
    "    classes = []\n",
    "    for i in range(len(X)):\n",
    "        data_list.append((read_and_normalize_train_data(file=True, name=X[i])[0]))\n",
    "        popularity.append(Y[i][0])\n",
    "        classes.append(Y[i][1:])\n",
    "    output = [np.array(popularity), np.array(classes)]\n",
    "    return np.array(data_list), output"
   ]
  },
  {
   "cell_type": "code",
   "execution_count": 10,
   "metadata": {},
   "outputs": [],
   "source": [
    "X_train, y_train = get_data(X_train, y_train)"
   ]
  },
  {
   "cell_type": "code",
   "execution_count": 11,
   "metadata": {},
   "outputs": [],
   "source": [
    "X_test, y_test = get_data(X_test, y_test)"
   ]
  },
  {
   "cell_type": "code",
   "execution_count": 12,
   "metadata": {},
   "outputs": [],
   "source": [
    "def multitask_loss(y_true, y_pred):\n",
    "    # Avoid divide by 0\n",
    "    y_pred = K.clip(y_pred, K.epsilon(), 1 - K.epsilon())\n",
    "    # Multi-task lossmodel.summary()\n",
    "    return K.mean(K.sum(- y_true * K.log(y_pred) - (1 - y_true) * K.log(1 - y_pred), axis=1))"
   ]
  },
  {
   "cell_type": "code",
   "execution_count": 13,
   "metadata": {},
   "outputs": [],
   "source": [
    "def recall(y_true, y_pred):\n",
    "        \"\"\"Recall metric.\n",
    "\n",
    "        Only computes a batch-wise average of recall.\n",
    "\n",
    "        Computes the recall, a metric for multi-label classification of\n",
    "        how many relevant items are selected.\n",
    "        \"\"\"\n",
    "        true_positives = K.sum(K.round(K.clip(y_true * y_pred, 0, 1)))\n",
    "        possible_positives = K.sum(K.round(K.clip(y_true, 0, 1)))\n",
    "        recall = true_positives / (possible_positives + K.epsilon())\n",
    "        return recall\n",
    "\n",
    "def precision(y_true, y_pred):\n",
    "        \"\"\"Precision metric.\n",
    "\n",
    "        Only computes a batch-wise average of precision.\n",
    "\n",
    "        Computes the precision, a metric for multi-label classification of\n",
    "        how many selected items are relevant.\n",
    "        \"\"\"\n",
    "        true_positives = K.sum(K.round(K.clip(y_true * y_pred, 0, 1)))\n",
    "        predicted_positives = K.sum(K.round(K.clip(y_pred, 0, 1)))\n",
    "        precision = true_positives / (predicted_positives + K.epsilon())\n",
    "        return precision\n",
    "    \n",
    "def f1(y_true, y_pred):\n",
    "    p = precision(y_true, y_pred)\n",
    "    r = recall(y_true, y_pred)\n",
    "    return 2*((p*r)/(p+r+K.epsilon()))\n",
    "\n"
   ]
  },
  {
   "cell_type": "code",
   "execution_count": 14,
   "metadata": {},
   "outputs": [],
   "source": [
    "def modify_resnet(model):\n",
    "    for layer in model.layers[:30]:\n",
    "        layer.trainable = False\n",
    "\n",
    "    #Adding custom Layers \n",
    "    x = model.output\n",
    "    x = Flatten()(x)\n",
    "    x = Dense(1024, activation=\"relu\")(x)\n",
    "    x = Dropout(0.5)(x)\n",
    "    x = Dense(1024, activation=\"relu\")(x)\n",
    "    \n",
    "    regression_head = Dense(1, activation='linear', name=\"regression\")(x)\n",
    "    classification_head = Dense(y_train[1].shape[1], activation=\"sigmoid\", name='classification')(x)\n",
    "\n",
    "    # creating the final model \n",
    "    model_final = Model(input = model.input, output = [regression_head, classification_head])\n",
    "\n",
    "    # compile the model \n",
    "    model_final.compile(loss = ['mean_squared_error', 'binary_crossentropy'], \n",
    "                        optimizer = optimizers.SGD(lr=0.0001, momentum=0.9), \n",
    "                        metrics={'regression':['mean_squared_error'],'classification':[f1, precision, recall,\"binary_accuracy\"]})\n",
    "    return model_final"
   ]
  },
  {
   "cell_type": "code",
   "execution_count": 15,
   "metadata": {},
   "outputs": [
    {
     "name": "stderr",
     "output_type": "stream",
     "text": [
      "/usr/local/lib/python3.5/dist-packages/ipykernel_launcher.py:16: UserWarning: Update your `Model` call to the Keras 2 API: `Model(inputs=Tensor(\"in..., outputs=[<tf.Tenso...)`\n",
      "  app.launch_new_instance()\n"
     ]
    }
   ],
   "source": [
    "from keras.models import load_model\n",
    "try:\n",
    "    model = load_model('trained_model.hdf5')\n",
    "except:\n",
    "    model = applications.resnet50.ResNet50(include_top=False, weights='imagenet', input_tensor=None, input_shape=(200, 200, 3), pooling=None, classes=1000)\n",
    "    model = modify_resnet(model)\n",
    "    model.save(\"model_untrained.hdf5\")"
   ]
  },
  {
   "cell_type": "code",
   "execution_count": 16,
   "metadata": {},
   "outputs": [
    {
     "name": "stdout",
     "output_type": "stream",
     "text": [
      "Train on 20400 samples, validate on 5100 samples\n",
      "Epoch 1/15\n",
      "20400/20400 [==============================] - 213s 10ms/step - loss: 0.8765 - regression_loss: 0.4330 - classification_loss: 0.4436 - regression_mean_squared_error: 0.4330 - classification_f1: 0.4050 - classification_precision: 0.4569 - classification_recall: 0.3874 - classification_binary_accuracy: 0.8053 - val_loss: 0.4639 - val_regression_loss: 0.1011 - val_classification_loss: 0.3628 - val_regression_mean_squared_error: 0.1011 - val_classification_f1: 0.4980 - val_classification_precision: 0.6130 - val_classification_recall: 0.4203 - val_classification_binary_accuracy: 0.8634\n",
      "Epoch 2/15\n",
      "20400/20400 [==============================] - 218s 11ms/step - loss: 0.5300 - regression_loss: 0.1713 - classification_loss: 0.3587 - regression_mean_squared_error: 0.1713 - classification_f1: 0.4434 - classification_precision: 0.5700 - classification_recall: 0.3642 - classification_binary_accuracy: 0.8522 - val_loss: 0.6581 - val_regression_loss: 0.3115 - val_classification_loss: 0.3466 - val_regression_mean_squared_error: 0.3115 - val_classification_f1: 0.4996 - val_classification_precision: 0.6136 - val_classification_recall: 0.4223 - val_classification_binary_accuracy: 0.8636\n",
      "Epoch 3/15\n",
      "20400/20400 [==============================] - 248s 12ms/step - loss: 0.4679 - regression_loss: 0.1204 - classification_loss: 0.3475 - regression_mean_squared_error: 0.1204 - classification_f1: 0.4507 - classification_precision: 0.5895 - classification_recall: 0.3661 - classification_binary_accuracy: 0.8558 - val_loss: 1.0152 - val_regression_loss: 0.6715 - val_classification_loss: 0.3437 - val_regression_mean_squared_error: 0.6715 - val_classification_f1: 0.4832 - val_classification_precision: 0.6191 - val_classification_recall: 0.3971 - val_classification_binary_accuracy: 0.8631\n",
      "Epoch 4/15\n",
      "20400/20400 [==============================] - 256s 13ms/step - loss: 0.4394 - regression_loss: 0.0980 - classification_loss: 0.3414 - regression_mean_squared_error: 0.0980 - classification_f1: 0.4559 - classification_precision: 0.5974 - classification_recall: 0.3700 - classification_binary_accuracy: 0.8573 - val_loss: 1.4845 - val_regression_loss: 1.1461 - val_classification_loss: 0.3384 - val_regression_mean_squared_error: 1.1461 - val_classification_f1: 0.4334 - val_classification_precision: 0.6367 - val_classification_recall: 0.3291 - val_classification_binary_accuracy: 0.8612\n",
      "Epoch 5/15\n",
      "20400/20400 [==============================] - 260s 13ms/step - loss: 0.4208 - regression_loss: 0.0845 - classification_loss: 0.3363 - regression_mean_squared_error: 0.0845 - classification_f1: 0.4626 - classification_precision: 0.6091 - classification_recall: 0.3742 - classification_binary_accuracy: 0.8595 - val_loss: 1.4615 - val_regression_loss: 1.1235 - val_classification_loss: 0.3380 - val_regression_mean_squared_error: 1.1235 - val_classification_f1: 0.4333 - val_classification_precision: 0.6367 - val_classification_recall: 0.3290 - val_classification_binary_accuracy: 0.8612\n",
      "Epoch 6/15\n",
      "20400/20400 [==============================] - 258s 13ms/step - loss: 0.4085 - regression_loss: 0.0764 - classification_loss: 0.3321 - regression_mean_squared_error: 0.0764 - classification_f1: 0.4665 - classification_precision: 0.6136 - classification_recall: 0.3777 - classification_binary_accuracy: 0.8604 - val_loss: 1.2916 - val_regression_loss: 0.9543 - val_classification_loss: 0.3372 - val_regression_mean_squared_error: 0.9543 - val_classification_f1: 0.4335 - val_classification_precision: 0.6364 - val_classification_recall: 0.3293 - val_classification_binary_accuracy: 0.8612\n",
      "Epoch 7/15\n",
      "20400/20400 [==============================] - 257s 13ms/step - loss: 0.3968 - regression_loss: 0.0682 - classification_loss: 0.3286 - regression_mean_squared_error: 0.0682 - classification_f1: 0.4727 - classification_precision: 0.6203 - classification_recall: 0.3832 - classification_binary_accuracy: 0.8618 - val_loss: 1.5185 - val_regression_loss: 1.1833 - val_classification_loss: 0.3351 - val_regression_mean_squared_error: 1.1833 - val_classification_f1: 0.4859 - val_classification_precision: 0.6172 - val_classification_recall: 0.4017 - val_classification_binary_accuracy: 0.8630\n",
      "Epoch 8/15\n",
      "20400/20400 [==============================] - 256s 13ms/step - loss: 0.3874 - regression_loss: 0.0624 - classification_loss: 0.3250 - regression_mean_squared_error: 0.0624 - classification_f1: 0.4764 - classification_precision: 0.6269 - classification_recall: 0.3855 - classification_binary_accuracy: 0.8631 - val_loss: 1.4011 - val_regression_loss: 1.0647 - val_classification_loss: 0.3363 - val_regression_mean_squared_error: 1.0647 - val_classification_f1: 0.4375 - val_classification_precision: 0.6331 - val_classification_recall: 0.3349 - val_classification_binary_accuracy: 0.8611\n",
      "Epoch 9/15\n",
      "20400/20400 [==============================] - 257s 13ms/step - loss: 0.3805 - regression_loss: 0.0574 - classification_loss: 0.3231 - regression_mean_squared_error: 0.0574 - classification_f1: 0.4787 - classification_precision: 0.6312 - classification_recall: 0.3867 - classification_binary_accuracy: 0.8638 - val_loss: 1.4733 - val_regression_loss: 1.1370 - val_classification_loss: 0.3363 - val_regression_mean_squared_error: 1.1370 - val_classification_f1: 0.4529 - val_classification_precision: 0.6229 - val_classification_recall: 0.3566 - val_classification_binary_accuracy: 0.8611\n",
      "Epoch 10/15\n",
      "20400/20400 [==============================] - 257s 13ms/step - loss: 0.3729 - regression_loss: 0.0530 - classification_loss: 0.3199 - regression_mean_squared_error: 0.0530 - classification_f1: 0.4850 - classification_precision: 0.6364 - classification_recall: 0.3931 - classification_binary_accuracy: 0.8650 - val_loss: 1.2406 - val_regression_loss: 0.9035 - val_classification_loss: 0.3370 - val_regression_mean_squared_error: 0.9035 - val_classification_f1: 0.4587 - val_classification_precision: 0.6232 - val_classification_recall: 0.3637 - val_classification_binary_accuracy: 0.8616\n",
      "Epoch 11/15\n",
      "20400/20400 [==============================] - 258s 13ms/step - loss: 0.3680 - regression_loss: 0.0503 - classification_loss: 0.3178 - regression_mean_squared_error: 0.0503 - classification_f1: 0.4884 - classification_precision: 0.6383 - classification_recall: 0.3969 - classification_binary_accuracy: 0.8656 - val_loss: 1.3126 - val_regression_loss: 0.9761 - val_classification_loss: 0.3365 - val_regression_mean_squared_error: 0.9761 - val_classification_f1: 0.4353 - val_classification_precision: 0.6334 - val_classification_recall: 0.3322 - val_classification_binary_accuracy: 0.8610\n",
      "Epoch 12/15\n",
      "20400/20400 [==============================] - 258s 13ms/step - loss: 0.3630 - regression_loss: 0.0476 - classification_loss: 0.3155 - regression_mean_squared_error: 0.0476 - classification_f1: 0.4919 - classification_precision: 0.6427 - classification_recall: 0.3997 - classification_binary_accuracy: 0.8665 - val_loss: 1.1487 - val_regression_loss: 0.8117 - val_classification_loss: 0.3371 - val_regression_mean_squared_error: 0.8117 - val_classification_f1: 0.4890 - val_classification_precision: 0.6169 - val_classification_recall: 0.4060 - val_classification_binary_accuracy: 0.8632\n",
      "Epoch 13/15\n",
      "20400/20400 [==============================] - 258s 13ms/step - loss: 0.3603 - regression_loss: 0.0463 - classification_loss: 0.3140 - regression_mean_squared_error: 0.0463 - classification_f1: 0.4952 - classification_precision: 0.6449 - classification_recall: 0.4033 - classification_binary_accuracy: 0.8671 - val_loss: 1.3043 - val_regression_loss: 0.9659 - val_classification_loss: 0.3384 - val_regression_mean_squared_error: 0.9659 - val_classification_f1: 0.4985 - val_classification_precision: 0.6142 - val_classification_recall: 0.4204 - val_classification_binary_accuracy: 0.8636\n",
      "Epoch 14/15\n",
      "20400/20400 [==============================] - 232s 11ms/step - loss: 0.3546 - regression_loss: 0.0426 - classification_loss: 0.3120 - regression_mean_squared_error: 0.0426 - classification_f1: 0.4981 - classification_precision: 0.6468 - classification_recall: 0.4064 - classification_binary_accuracy: 0.8676 - val_loss: 1.4035 - val_regression_loss: 1.0669 - val_classification_loss: 0.3366 - val_regression_mean_squared_error: 1.0669 - val_classification_f1: 0.4931 - val_classification_precision: 0.6149 - val_classification_recall: 0.4125 - val_classification_binary_accuracy: 0.8633\n"
     ]
    },
    {
     "name": "stdout",
     "output_type": "stream",
     "text": [
      "Epoch 15/15\n",
      "20400/20400 [==============================] - 224s 11ms/step - loss: 0.3514 - regression_loss: 0.0414 - classification_loss: 0.3100 - regression_mean_squared_error: 0.0414 - classification_f1: 0.5014 - classification_precision: 0.6505 - classification_recall: 0.4094 - classification_binary_accuracy: 0.8684 - val_loss: 1.4849 - val_regression_loss: 1.1477 - val_classification_loss: 0.3372 - val_regression_mean_squared_error: 1.1477 - val_classification_f1: 0.4841 - val_classification_precision: 0.6164 - val_classification_recall: 0.3995 - val_classification_binary_accuracy: 0.8628\n"
     ]
    }
   ],
   "source": [
    "hist = model.fit(X_train, y_train, epochs=epochs, batch_size=batch_size, validation_split=0.20, verbose=1,class_weight ={'baby':161,'child':39,'teenager':4,'youth':1,'middle_age':28,'senior':1978})"
   ]
  },
  {
   "cell_type": "code",
   "execution_count": 17,
   "metadata": {},
   "outputs": [],
   "source": [
    "model.save('trained_model.hdf5')"
   ]
  },
  {
   "cell_type": "code",
   "execution_count": 18,
   "metadata": {},
   "outputs": [],
   "source": [
    "import json\n",
    "#json.dump(hist.history, open('history_simple.json','w'))\n",
    "#model.summary()\n"
   ]
  },
  {
   "cell_type": "code",
   "execution_count": 19,
   "metadata": {},
   "outputs": [
    {
     "data": {
      "image/png": "[encoded data removed]",
      "text/plain": [
       "<Figure size 1440x1080 with 8 Axes>"
      ]
     },
     "metadata": {},
     "output_type": "display_data"
    }
   ],
   "source": [
    "def plot_history(h):\n",
    "    fig, axes = plt.subplots(2,4, figsize=(20,15))\n",
    "    x = range(len(h['classification_loss']))\n",
    "\n",
    "    for key, series in h.items():\n",
    "        a, target = -1, 0\n",
    "        if 'val' in key:\n",
    "            a = 1\n",
    "        else:\n",
    "            a = 0\n",
    "        if 'regression' in key:\n",
    "            target += 2\n",
    "        if 'loss' in key:\n",
    "            target += 1\n",
    "\n",
    "        if target != -1:\n",
    "            axes[a][target].plot(x, series, label=key)\n",
    "\n",
    "    for i in axes:\n",
    "        for j in i:\n",
    "            j.legend()\n",
    "    \n",
    "    plt.savefig('lastrun_history.png')\n",
    "    \n",
    "plot_history(hist.history)"
   ]
  },
  {
   "cell_type": "code",
   "execution_count": 20,
   "metadata": {},
   "outputs": [],
   "source": [
    "preds = model.predict(X_test)"
   ]
  },
  {
   "cell_type": "code",
   "execution_count": 21,
   "metadata": {},
   "outputs": [],
   "source": [
    "from sklearn import metrics"
   ]
  },
  {
   "cell_type": "code",
   "execution_count": 22,
   "metadata": {},
   "outputs": [
    {
     "name": "stdout",
     "output_type": "stream",
     "text": [
      "image_name\n",
      "popularity_score\n",
      "...unable to process column\n",
      "partial_faces\n",
      "is_female\n",
      "baby\n",
      "child\n",
      "teenager\n",
      "youth\n",
      "middle_age\n",
      "senior\n",
      "white\n",
      "black\n",
      "asian\n",
      "oval_face\n",
      "round_face\n",
      "heart_face\n",
      "smiling\n",
      "mouth_open\n",
      "frowning\n",
      "wearing_glasses\n"
     ]
    },
    {
     "name": "stderr",
     "output_type": "stream",
     "text": [
      "/usr/local/lib/python3.5/dist-packages/sklearn/metrics/classification.py:1135: UndefinedMetricWarning: Precision is ill-defined and being set to 0.0 due to no predicted samples.\n",
      "  'precision', 'predicted', average, warn_for)\n",
      "/usr/local/lib/python3.5/dist-packages/sklearn/metrics/classification.py:1135: UndefinedMetricWarning: F-score is ill-defined and being set to 0.0 due to no predicted samples.\n",
      "  'precision', 'predicted', average, warn_for)\n"
     ]
    },
    {
     "name": "stdout",
     "output_type": "stream",
     "text": [
      "wearing_sunglasses\n",
      "wearing_lipstick\n",
      "tongue_out\n",
      "duck_face\n",
      "black_hair\n",
      "blond_hair\n",
      "brown_hair\n",
      "red_hair\n",
      "curly_hair\n",
      "straight_hair\n",
      "braid_hair\n",
      "showing_cellphone\n",
      "using_earphone\n",
      "using_mirror\n",
      "braces\n",
      "wearing_hat\n"
     ]
    }
   ],
   "source": [
    "l = []\n",
    "actual_columns = []\n",
    "for col, true, pred in zip(columns, y_test[1].T,preds[1].round().T):\n",
    "    try:\n",
    "        print(\"{}\".format(col))\n",
    "        scores = [metrics.precision_score(true,pred,pos_label=0),\n",
    "        metrics.precision_score(true,pred,pos_label=1),\n",
    "        metrics.recall_score(true,pred,pos_label=0),\n",
    "        metrics.recall_score(true,pred,pos_label=1),\n",
    "        metrics.f1_score(true,pred,pos_label=0),\n",
    "        metrics.f1_score(true,pred,pos_label=1)]\n",
    "        l.append(scores)\n",
    "        actual_columns.append(col)\n",
    "    except:\n",
    "       \n",
    "        print(\"...unable to process column\")\n",
    "        pass\n",
    "\n",
    "arr = np.array(l)\n"
   ]
  },
  {
   "cell_type": "code",
   "execution_count": 23,
   "metadata": {},
   "outputs": [],
   "source": [
    "import pandas as pd"
   ]
  },
  {
   "cell_type": "code",
   "execution_count": 24,
   "metadata": {},
   "outputs": [
    {
     "data": {
      "text/html": [
       "<div>\n",
       "<style scoped>\n",
       "    .dataframe tbody tr th:only-of-type {\n",
       "        vertical-align: middle;\n",
       "    }\n",
       "\n",
       "    .dataframe tbody tr th {\n",
       "        vertical-align: top;\n",
       "    }\n",
       "\n",
       "    .dataframe thead th {\n",
       "        text-align: right;\n",
       "    }\n",
       "</style>\n",
       "<table border=\"1\" class=\"dataframe\">\n",
       "  <thead>\n",
       "    <tr style=\"text-align: right;\">\n",
       "      <th></th>\n",
       "      <th>f1_0</th>\n",
       "      <th>f1_1</th>\n",
       "      <th>precision_0</th>\n",
       "      <th>precision_1</th>\n",
       "      <th>recall_0</th>\n",
       "      <th>recall_1</th>\n",
       "      <th>column</th>\n",
       "    </tr>\n",
       "  </thead>\n",
       "  <tbody>\n",
       "    <tr>\n",
       "      <th>0</th>\n",
       "      <td>0.853211</td>\n",
       "      <td>0.000000</td>\n",
       "      <td>0.744000</td>\n",
       "      <td>0.000000</td>\n",
       "      <td>1.0</td>\n",
       "      <td>0.0</td>\n",
       "      <td>image_name</td>\n",
       "    </tr>\n",
       "    <tr>\n",
       "      <th>1</th>\n",
       "      <td>0.997438</td>\n",
       "      <td>0.000000</td>\n",
       "      <td>0.994889</td>\n",
       "      <td>0.000000</td>\n",
       "      <td>1.0</td>\n",
       "      <td>0.0</td>\n",
       "      <td>partial_faces</td>\n",
       "    </tr>\n",
       "    <tr>\n",
       "      <th>2</th>\n",
       "      <td>0.990239</td>\n",
       "      <td>0.000000</td>\n",
       "      <td>0.980667</td>\n",
       "      <td>0.000000</td>\n",
       "      <td>1.0</td>\n",
       "      <td>0.0</td>\n",
       "      <td>is_female</td>\n",
       "    </tr>\n",
       "    <tr>\n",
       "      <th>3</th>\n",
       "      <td>0.900965</td>\n",
       "      <td>0.000000</td>\n",
       "      <td>0.819778</td>\n",
       "      <td>0.000000</td>\n",
       "      <td>1.0</td>\n",
       "      <td>0.0</td>\n",
       "      <td>baby</td>\n",
       "    </tr>\n",
       "    <tr>\n",
       "      <th>4</th>\n",
       "      <td>0.000000</td>\n",
       "      <td>0.778502</td>\n",
       "      <td>0.000000</td>\n",
       "      <td>0.637333</td>\n",
       "      <td>0.0</td>\n",
       "      <td>1.0</td>\n",
       "      <td>child</td>\n",
       "    </tr>\n",
       "  </tbody>\n",
       "</table>\n",
       "</div>"
      ],
      "text/plain": [
       "       f1_0      f1_1  precision_0  precision_1  recall_0  recall_1  \\\n",
       "0  0.853211  0.000000     0.744000     0.000000       1.0       0.0   \n",
       "1  0.997438  0.000000     0.994889     0.000000       1.0       0.0   \n",
       "2  0.990239  0.000000     0.980667     0.000000       1.0       0.0   \n",
       "3  0.900965  0.000000     0.819778     0.000000       1.0       0.0   \n",
       "4  0.000000  0.778502     0.000000     0.637333       0.0       1.0   \n",
       "\n",
       "          column  \n",
       "0     image_name  \n",
       "1  partial_faces  \n",
       "2      is_female  \n",
       "3           baby  \n",
       "4          child  "
      ]
     },
     "execution_count": 24,
     "metadata": {},
     "output_type": "execute_result"
    }
   ],
   "source": [
    "\n",
    "cols = ['precision_0','precision_1','recall_0','recall_1','f1_0','f1_1']\n",
    "d = {c:arr for c,arr in list(zip(cols, arr.T))}\n",
    "df = pd.DataFrame(d)\n",
    "df['column'] = actual_columns\n",
    "df.head()"
   ]
  },
  {
   "cell_type": "code",
   "execution_count": 25,
   "metadata": {},
   "outputs": [],
   "source": [
    "df.to_csv('classwise_stats.csv')"
   ]
  }
 ],
 "metadata": {
  "kernelspec": {
   "display_name": "Python 3",
   "language": "python",
   "name": "python3"
  },
  "language_info": {
   "codemirror_mode": {
    "name": "ipython",
    "version": 3
   },
   "file_extension": ".py",
   "mimetype": "text/x-python",
   "name": "python",
   "nbconvert_exporter": "python",
   "pygments_lexer": "ipython3",
   "version": "3.5.2"
  }
 },
 "nbformat": 4,
 "nbformat_minor": 2
}
