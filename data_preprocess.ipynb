{
 "cells": [
  {
   "cell_type": "code",
   "execution_count": 66,
   "metadata": {},
   "outputs": [],
   "source": [
    "import tensorflow as tf\n",
    "tf.enable_eager_execution()\n",
    "from imageio import imread\n",
    "INPUT_HEIGHT, INPUT_WEIGHT = (300,300)"
   ]
  },
  {
   "cell_type": "code",
   "execution_count": 73,
   "metadata": {},
   "outputs": [],
   "source": [
    "d = tf.data.TFRecordDataset('data.tfrecords')\n",
    "features={\n",
    "      'image': tf.FixedLenFeature([], tf.string),\n",
    "      'popularity': tf.FixedLenFeature([1], tf.float32),\n",
    "      'gender': tf.FixedLenFeature([1], tf.int64),\n",
    "      'age_group': tf.FixedLenFeature([6], tf.int64),\n",
    "}\n",
    "\n",
    "\n",
    "d = d.map(lambda  x: tf.parse_single_example(x, features))\n",
    "d = d.map(lambda x: {'image': tf.image.decode_image(x['image']),'popularity':x['popularity'],'gender':x['gender'],'age_group':x['age_group']})\n",
    "d = d.map(lambda x: {'image': tf.image.resize_image_with_crop_or_pad(x['image'], INPUT_HEIGHT, INPUT_WEIGHT),'popularity':x['popularity'],'gender':x['gender'],'age_group':x['age_group']})\n",
    "d = d.shuffle(100)\n",
    "d = d.batch(32)\n",
    "d = d.take(10)"
   ]
  },
  {
   "cell_type": "code",
   "execution_count": 69,
   "metadata": {},
   "outputs": [
    {
     "name": "stderr",
     "output_type": "stream",
     "text": [
      "/home/hybrid/.virtualenvs/tensorflow/lib/python3.6/site-packages/keras_applications/resnet50.py:265: UserWarning: The output shape of `ResNet50(include_top=False)` has been changed since Keras 2.2.0.\n",
      "  warnings.warn('The output shape of `ResNet50(include_top=False)` '\n"
     ]
    }
   ],
   "source": [
    "model = tf.keras.applications.resnet50.ResNet50(include_top=False, weights='imagenet', input_tensor=None, input_shape=(INPUT_HEIGHT,INPUT_WEIGHT,3), pooling=None)\n",
    "model.trainable = False"
   ]
  },
  {
   "cell_type": "code",
   "execution_count": 71,
   "metadata": {},
   "outputs": [],
   "source": []
  },
  {
   "cell_type": "code",
   "execution_count": null,
   "metadata": {},
   "outputs": [],
   "source": []
  }
 ],
 "metadata": {
  "kernelspec": {
   "display_name": "Python [conda env:anaconda]",
   "language": "python",
   "name": "conda-env-anaconda-py"
  },
  "language_info": {
   "codemirror_mode": {
    "name": "ipython",
    "version": 3
   },
   "file_extension": ".py",
   "mimetype": "text/x-python",
   "name": "python",
   "nbconvert_exporter": "python",
   "pygments_lexer": "ipython3",
   "version": "3.5.4"
  }
 },
 "nbformat": 4,
 "nbformat_minor": 2
}
